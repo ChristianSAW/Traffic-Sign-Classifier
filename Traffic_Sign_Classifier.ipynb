{
 "cells": [
  {
   "cell_type": "markdown",
   "metadata": {},
   "source": [
    "# Self-Driving Car Engineer Nanodegree\n",
    "\n",
    "## Deep Learning\n",
    "\n",
    "## Project: Build a Traffic Sign Recognition Classifier\n",
    "\n",
    "In this notebook, a template is provided for you to implement your functionality in stages, which is required to successfully complete this project. If additional code is required that cannot be included in the notebook, be sure that the Python code is successfully imported and included in your submission if necessary. \n",
    "\n",
    "> **Note**: Once you have completed all of the code implementations, you need to finalize your work by exporting the iPython Notebook as an HTML document. Before exporting the notebook to html, all of the code cells need to have been run so that reviewers can see the final implementation and output. You can then export the notebook by using the menu above and navigating to  \\n\",\n",
    "    \"**File -> Download as -> HTML (.html)**. Include the finished document along with this notebook as your submission. \n",
    "\n",
    "In addition to implementing code, there is a writeup to complete. The writeup should be completed in a separate file, which can be either a markdown file or a pdf document. There is a [write up template](https://github.com/udacity/CarND-Traffic-Sign-Classifier-Project/blob/master/writeup_template.md) that can be used to guide the writing process. Completing the code template and writeup template will cover all of the [rubric points](https://review.udacity.com/#!/rubrics/481/view) for this project.\n",
    "\n",
    "The [rubric](https://review.udacity.com/#!/rubrics/481/view) contains \"Stand Out Suggestions\" for enhancing the project beyond the minimum requirements. The stand out suggestions are optional. If you decide to pursue the \"stand out suggestions\", you can include the code in this Ipython notebook and also discuss the results in the writeup file.\n",
    "\n",
    "\n",
    ">**Note:** Code and Markdown cells can be executed using the **Shift + Enter** keyboard shortcut. In addition, Markdown cells can be edited by typically double-clicking the cell to enter edit mode."
   ]
  },
  {
   "cell_type": "markdown",
   "metadata": {},
   "source": [
    "---\n",
    "## Step 0: Load The Data"
   ]
  },
  {
   "cell_type": "code",
   "execution_count": 1,
   "metadata": {},
   "outputs": [],
   "source": [
    "import numpy as np\n",
    "import cv2\n",
    "\n",
    "# Load pickled data\n",
    "import pickle\n",
    "\n",
    "# TODO: Fill this in based on where you saved the training and testing data\n",
    "\n",
    "training_file = \"../data/train.p\"\n",
    "validation_file=\"../data/valid.p\"\n",
    "testing_file = \"../data/test.p\"\n",
    "\n",
    "with open(training_file, mode='rb') as f:\n",
    "    train = pickle.load(f)\n",
    "with open(validation_file, mode='rb') as f:\n",
    "    valid = pickle.load(f)\n",
    "with open(testing_file, mode='rb') as f:\n",
    "    test = pickle.load(f)   \n",
    "    \n",
    "X_train, y_train = train['features'], train['labels']\n",
    "X_valid, y_valid = valid['features'], valid['labels']\n",
    "X_test, y_test = test['features'], test['labels']"
   ]
  },
  {
   "cell_type": "markdown",
   "metadata": {},
   "source": [
    "---\n",
    "\n",
    "## Step 1: Dataset Summary & Exploration\n",
    "\n",
    "The pickled data is a dictionary with 4 key/value pairs:\n",
    "\n",
    "- `'features'` is a 4D array containing raw pixel data of the traffic sign images, (num examples, width, height, channels).\n",
    "- `'labels'` is a 1D array containing the label/class id of the traffic sign. The file `signnames.csv` contains id -> name mappings for each id.\n",
    "- `'sizes'` is a list containing tuples, (width, height) representing the original width and height the image.\n",
    "- `'coords'` is a list containing tuples, (x1, y1, x2, y2) representing coordinates of a bounding box around the sign in the image. **THESE COORDINATES ASSUME THE ORIGINAL IMAGE. THE PICKLED DATA CONTAINS RESIZED VERSIONS (32 by 32) OF THESE IMAGES**\n",
    "\n",
    "Complete the basic data summary below. Use python, numpy and/or pandas methods to calculate the data summary rather than hard coding the results. For example, the [pandas shape method](http://pandas.pydata.org/pandas-docs/stable/generated/pandas.DataFrame.shape.html) might be useful for calculating some of the summary results. "
   ]
  },
  {
   "cell_type": "markdown",
   "metadata": {},
   "source": [
    "### Provide a Basic Summary of the Data Set Using Python, Numpy and/or Pandas"
   ]
  },
  {
   "cell_type": "code",
   "execution_count": 2,
   "metadata": {},
   "outputs": [
    {
     "name": "stdout",
     "output_type": "stream",
     "text": [
      "Number of training examples = 34799\n",
      "Number of testing examples = 12630\n",
      "Image data shape = (32, 32, 3)\n",
      "Number of classes = 43\n"
     ]
    }
   ],
   "source": [
    "### Replace each question mark with the appropriate value. \n",
    "### Use python, pandas or numpy methods rather than hard coding the results\n",
    "\n",
    "# TODO: Number of training examples\n",
    "n_train = len(y_train)\n",
    "\n",
    "# TODO: Number of validation examples\n",
    "n_validation = len(y_valid)\n",
    "\n",
    "# TODO: Number of testing examples.\n",
    "n_test = len(y_test)\n",
    "\n",
    "# TODO: What's the shape of an traffic sign image?\n",
    "image_shape = X_train.shape[1:]\n",
    "\n",
    "# TODO: How many unique classes/labels there are in the dataset.\n",
    "n_classes = len(np.unique(y_train))\n",
    "\n",
    "print(\"Number of training examples =\", n_train)\n",
    "print(\"Number of testing examples =\", n_test)\n",
    "print(\"Image data shape =\", image_shape)\n",
    "print(\"Number of classes =\", n_classes)"
   ]
  },
  {
   "cell_type": "markdown",
   "metadata": {},
   "source": [
    "### Include an exploratory visualization of the dataset"
   ]
  },
  {
   "cell_type": "markdown",
   "metadata": {},
   "source": [
    "Visualize the German Traffic Signs Dataset using the pickled file(s). This is open ended, suggestions include: plotting traffic sign images, plotting the count of each sign, etc. \n",
    "\n",
    "The [Matplotlib](http://matplotlib.org/) [examples](http://matplotlib.org/examples/index.html) and [gallery](http://matplotlib.org/gallery.html) pages are a great resource for doing visualizations in Python.\n",
    "\n",
    "**NOTE:** It's recommended you start with something simple first. If you wish to do more, come back to it after you've completed the rest of the sections. It can be interesting to look at the distribution of classes in the training, validation and test set. Is the distribution the same? Are there more examples of some classes than others?"
   ]
  },
  {
   "cell_type": "code",
   "execution_count": 3,
   "metadata": {},
   "outputs": [],
   "source": [
    "### Data exploration visualization code goes here.\n",
    "### Feel free to use as many code cells as needed.\n",
    "import matplotlib.pyplot as plt\n",
    "import random\n",
    "import pandas as pd\n",
    "    \n",
    "# Visualizations will be shown in the notebook.\n",
    "%matplotlib inline"
   ]
  },
  {
   "cell_type": "code",
   "execution_count": 4,
   "metadata": {},
   "outputs": [
    {
     "name": "stdout",
     "output_type": "stream",
     "text": [
      "    ClassId                                           SignName\n",
      "0         0                               Speed limit (20km/h)\n",
      "1         1                               Speed limit (30km/h)\n",
      "2         2                               Speed limit (50km/h)\n",
      "3         3                               Speed limit (60km/h)\n",
      "4         4                               Speed limit (70km/h)\n",
      "5         5                               Speed limit (80km/h)\n",
      "6         6                        End of speed limit (80km/h)\n",
      "7         7                              Speed limit (100km/h)\n",
      "8         8                              Speed limit (120km/h)\n",
      "9         9                                         No passing\n",
      "10       10       No passing for vehicles over 3.5 metric tons\n",
      "11       11              Right-of-way at the next intersection\n",
      "12       12                                      Priority road\n",
      "13       13                                              Yield\n",
      "14       14                                               Stop\n",
      "15       15                                        No vehicles\n",
      "16       16           Vehicles over 3.5 metric tons prohibited\n",
      "17       17                                           No entry\n",
      "18       18                                    General caution\n",
      "19       19                        Dangerous curve to the left\n",
      "20       20                       Dangerous curve to the right\n",
      "21       21                                       Double curve\n",
      "22       22                                         Bumpy road\n",
      "23       23                                      Slippery road\n",
      "24       24                          Road narrows on the right\n",
      "25       25                                          Road work\n",
      "26       26                                    Traffic signals\n",
      "27       27                                        Pedestrians\n",
      "28       28                                  Children crossing\n",
      "29       29                                  Bicycles crossing\n",
      "30       30                                 Beware of ice/snow\n",
      "31       31                              Wild animals crossing\n",
      "32       32                End of all speed and passing limits\n",
      "33       33                                   Turn right ahead\n",
      "34       34                                    Turn left ahead\n",
      "35       35                                         Ahead only\n",
      "36       36                               Go straight or right\n",
      "37       37                                Go straight or left\n",
      "38       38                                         Keep right\n",
      "39       39                                          Keep left\n",
      "40       40                               Roundabout mandatory\n",
      "41       41                                  End of no passing\n",
      "42       42  End of no passing by vehicles over 3.5 metric ...\n"
     ]
    }
   ],
   "source": [
    "# Load and Print Label's from signnames.csv\n",
    "# access lable  name with: snData.at[<label#>,'SignName'], e.g. snData.at[14,'SignName'] -> \"Stop\"\n",
    "snData = pd.read_csv(\"signnames.csv\")\n",
    "print(snData)"
   ]
  },
  {
   "cell_type": "code",
   "execution_count": 5,
   "metadata": {},
   "outputs": [
    {
     "name": "stdout",
     "output_type": "stream",
     "text": [
      "10 : No passing for vehicles over 3.5 metric tons\n"
     ]
    },
    {
     "data": {
      "image/png": "[encoded data removed]",
      "text/plain": [
       "<matplotlib.figure.Figure at 0x7eff5505f4a8>"
      ]
     },
     "metadata": {
      "needs_background": "light"
     },
     "output_type": "display_data"
    }
   ],
   "source": [
    "# Visualize 1 Image and confirm that the lable matches the image\n",
    "index = random.randint(0, len(X_train))\n",
    "image = X_train[index].squeeze()\n",
    "\n",
    "plt.figure(figsize=(1,1))\n",
    "plt.imshow(image, cmap=\"gray\")\n",
    "print(y_train[index],\":\",snData.at[y_train[index],'SignName']) "
   ]
  },
  {
   "cell_type": "code",
   "execution_count": 6,
   "metadata": {},
   "outputs": [],
   "source": [
    "# now to visualize a sample sign from each fo the 43 classes: \n",
    "def plot_hist(n_classes,X_train,y_train,X_valid,y_valid,X_test,y_test):\n",
    "    numClass_train = []\n",
    "    numClass_valid = []\n",
    "    numClass_test = []\n",
    "    for i in range(0, n_classes):\n",
    "        x_train_class_i = X_train[y_train == i]     # list of examples from training set belonging to lable i\n",
    "        x_valid_class_i = X_valid[y_valid == i]     # list of examples from validation set belonging to lable i\n",
    "        x_test_class_i = X_test[y_test == i]        # list of examples from test set beloning to lablee i\n",
    "\n",
    "        # create buckets for each class containing number of examples \n",
    "        numClass_train.append(len(x_train_class_i))\n",
    "        numClass_valid.append(len(x_valid_class_i))\n",
    "        numClass_test.append(len(x_test_class_i))\n",
    "\n",
    "    # plot histograms (number of images per class in X dataset)\n",
    "    \n",
    "    # Training Dataset\n",
    "    plt.figure(figsize=(12, 6))\n",
    "    plt.bar(range(0, n_classes), numClass_train)\n",
    "    plt.title('Histogram of image distribution in Training Dataset')\n",
    "    plt.xlabel(\"Class/Label Number\")\n",
    "    plt.ylabel(\"Number of Images\")\n",
    "\n",
    "    # Validation Dataset\n",
    "    plt.figure(figsize=(12, 6))\n",
    "    plt.bar(range(0, n_classes), numClass_valid)\n",
    "    plt.title('Histogram of image distribution in Validation Dataset')\n",
    "    plt.xlabel(\"Class/Label Number\")\n",
    "    plt.ylabel(\"Number of Images\")\n",
    "\n",
    "    # Test Dataset\n",
    "    plt.figure(figsize=(12, 6))\n",
    "    plt.bar(range(0, n_classes), numClass_test)\n",
    "    plt.title('Histogram of image distribution in Testing Dataset')\n",
    "    plt.xlabel(\"Class/Label Number\")\n",
    "    plt.ylabel(\"Number of images\")\n",
    "\n",
    "def plot_random(n_classes,features,labels):\n",
    "    \n",
    "    B = np.ones(len(features)) \n",
    "    \n",
    "    plt.figure(figsize = (12,18))\n",
    "    for i in range(0, n_classes):\n",
    "        plt.subplot(9,5,i+1)\n",
    "        \n",
    "        # pick random image from all possible examples belonging to class i\n",
    "        class_i_list = (labels == (i*B)).nonzero()[0]   # list of examples belonging to class i\n",
    "        randInd = random.randint(0,len(class_i_list))   \n",
    "        index = class_i_list[randInd]                   # randomly selected image from list\n",
    "        \n",
    "        # plot image and label\n",
    "        plt.imshow(features[index, :, :, :]) \n",
    "        plt.text(2,4,str(i), color='k',backgroundcolor='m')\n",
    "        plt.axis('off')\n"
   ]
  },
  {
   "cell_type": "code",
   "execution_count": 7,
   "metadata": {},
   "outputs": [
    {
     "data": {
      "image/png": "[encoded data removed]",
      "text/plain": [
       "<matplotlib.figure.Figure at 0x7eff54fd2160>"
      ]
     },
     "metadata": {
      "needs_background": "light"
     },
     "output_type": "display_data"
    }
   ],
   "source": [
    "# plot random image from each class within training data set (and it's corresponding label)\n",
    "plot_random(n_classes,X_train,y_train)"
   ]
  },
  {
   "cell_type": "code",
   "execution_count": 8,
   "metadata": {},
   "outputs": [
    {
     "data": {
      "image/png": "[encoded data removed]",
      "text/plain": [
       "<matplotlib.figure.Figure at 0x7eff55012160>"
      ]
     },
     "metadata": {
      "needs_background": "light"
     },
     "output_type": "display_data"
    },
    {
     "data": {
      "image/png": "[encoded data removed]",
      "text/plain": [
       "<matplotlib.figure.Figure at 0x7eff50fe1518>"
      ]
     },
     "metadata": {
      "needs_background": "light"
     },
     "output_type": "display_data"
    },
    {
     "data": {
      "image/png": "[encoded data removed]",
      "text/plain": [
       "<matplotlib.figure.Figure at 0x7eff50bc7f98>"
      ]
     },
     "metadata": {
      "needs_background": "light"
     },
     "output_type": "display_data"
    }
   ],
   "source": [
    "# plot histogram for each data set of number of images beloning to each label. \n",
    "plot_hist(n_classes,X_train,y_train,X_valid,y_valid,X_test,y_test)"
   ]
  },
  {
   "cell_type": "markdown",
   "metadata": {},
   "source": [
    "Clearly there is a uneven distribution of classes in each set, but the relative number of classes in each dataset seems relatively consistant between the training, validation, and testing datasets. "
   ]
  },
  {
   "cell_type": "markdown",
   "metadata": {},
   "source": [
    "----\n",
    "\n",
    "## Step 2: Design and Test a Model Architecture\n",
    "\n",
    "Design and implement a deep learning model that learns to recognize traffic signs. Train and test your model on the [German Traffic Sign Dataset](http://benchmark.ini.rub.de/?section=gtsrb&subsection=dataset).\n",
    "\n",
    "The LeNet-5 implementation shown in the [classroom](https://classroom.udacity.com/nanodegrees/nd013/parts/fbf77062-5703-404e-b60c-95b78b2f3f9e/modules/6df7ae49-c61c-4bb2-a23e-6527e69209ec/lessons/601ae704-1035-4287-8b11-e2c2716217ad/concepts/d4aca031-508f-4e0b-b493-e7b706120f81) at the end of the CNN lesson is a solid starting point. You'll have to change the number of classes and possibly the preprocessing, but aside from that it's plug and play! \n",
    "\n",
    "With the LeNet-5 solution from the lecture, you should expect a validation set accuracy of about 0.89. To meet specifications, the validation set accuracy will need to be at least 0.93. It is possible to get an even higher accuracy, but 0.93 is the minimum for a successful project submission. \n",
    "\n",
    "There are various aspects to consider when thinking about this problem:\n",
    "\n",
    "- Neural network architecture (is the network over or underfitting?)\n",
    "- Play around preprocessing techniques (normalization, rgb to grayscale, etc)\n",
    "- Number of examples per label (some have more than others).\n",
    "- Generate fake data.\n",
    "\n",
    "Here is an example of a [published baseline model on this problem](http://yann.lecun.com/exdb/publis/pdf/sermanet-ijcnn-11.pdf). It's not required to be familiar with the approach used in the paper but, it's good practice to try to read papers like these."
   ]
  },
  {
   "cell_type": "markdown",
   "metadata": {},
   "source": [
    "### Pre-process the Data Set (normalization, grayscale, etc.)"
   ]
  },
  {
   "cell_type": "markdown",
   "metadata": {},
   "source": [
    "Minimally, the image data should be normalized so that the data has mean zero and equal variance. For image data, `(pixel - 128)/ 128` is a quick way to approximately normalize the data and can be used in this project. \n",
    "\n",
    "Other pre-processing steps are optional. You can try different techniques to see if it improves performance. \n",
    "\n",
    "Use the code cell (or multiple code cells, if necessary) to implement the first step of your project."
   ]
  },
  {
   "cell_type": "code",
   "execution_count": 9,
   "metadata": {},
   "outputs": [],
   "source": [
    "### Preprocess the data here. It is required to normalize the data. Other preprocessing steps could include \n",
    "### converting to grayscale, etc.\n",
    "### Feel free to use as many code cells as needed.\n",
    "import time\n",
    "\n",
    "## [1] SHUFFLE THE DATA\n",
    "from sklearn.utils import shuffle\n",
    "X_train, y_train = shuffle(X_train, y_train)\n",
    "X_valid, y_valid = shuffle(X_valid, y_valid)\n",
    "X_test, y_test = shuffle(X_test, y_test)"
   ]
  },
  {
   "cell_type": "code",
   "execution_count": 10,
   "metadata": {},
   "outputs": [],
   "source": [
    "## [2] Preprocessing \n",
    "\n",
    "# For testing histogram equalization b/c cannot blot normalized RGB with range of -0.5 to 0.5\n",
    "def histEq(img):\n",
    "    for i in range(img.shape[2]):\n",
    "        img[:,:,i] = cv2.equalizeHist(img[:,:,i])\n",
    "    return img\n",
    "        \n",
    "def histEq_batch(X_data):\n",
    "    return np.array([histEq(X_data[i]) for i in range(len(X_data))])\n",
    "    \n",
    "# For testing CLAHE b/c cannot plot normalized RGB with range of -0.5 to 0.5\n",
    "def CLAHE(img):\n",
    "    \n",
    "    # *Note: it seems that it is not necessary to do any scaling of the values from 0-1 as the conversion from RGB to LAB \n",
    "    # already does this. LAB operates in 0-1 range, not 0-255 range. \n",
    "    \n",
    "    # Parameters \n",
    "    clipLimit = 2.0\n",
    "    tileGridSize = (4,4)\n",
    "    \n",
    "    # Create CLAHE object \n",
    "    clahe = cv2.createCLAHE(clipLimit, tileGridSize)\n",
    "    \n",
    "    # convert image to LAB \n",
    "    lab = cv2.cvtColor(img,cv2.COLOR_RGB2LAB)\n",
    "    lab_channels = cv2.split(lab)                # split lab into channels: l (lightness), a (green-red), b (clue-yellow)\n",
    "    \n",
    "    # apply to lab to lightness channel \n",
    "    lab_channels[0] = clahe.apply(lab_channels[0])\n",
    "    lab = cv2.merge(lab_channels)\n",
    "    \n",
    "    # return image to RGB\n",
    "    img_mod = cv2.cvtColor(lab, cv2.COLOR_LAB2RGB) \n",
    "    \n",
    "    return img_mod\n",
    "\n",
    "def CLAHE_batch(X_data):\n",
    "    return np.array([CLAHE(X_data[i]) for i in range(len(X_data))])\n",
    "\n",
    "\n",
    "# Perform following preprocess operations on a n channel image:\n",
    "# Histogram Equalization - account for varied lighting conditions in images.\n",
    "# CLAHE - like hisogram normalization, but with contrast limiting. \n",
    "# Normalization - normalize pixle values about zero for better processing.\n",
    "def preprocess_img(img,use_CLAHE = 1):\n",
    "    a = -0.5\n",
    "    b = 0.5\n",
    "    \n",
    "    if use_CLAHE:\n",
    "        img = CLAHE(img)\n",
    "    else:\n",
    "        # Histogram Equalization \n",
    "        for i in range(img.shape[2]):\n",
    "            img[:,:,i] = cv2.equalizeHist(img[:,:,i])\n",
    "    \n",
    "    # Normalization\n",
    "    Xmin = img.min()\n",
    "    Xmax = img.max()\n",
    "    img = a + ((img-Xmin)*(b-a)/(Xmax-Xmin))\n",
    "    \n",
    "    return img\n",
    "\n",
    "    \n",
    "# Will preprocess a group of images as formated [# image, Width, Height, Channel]\n",
    "def preprocess_batch(X_data,use_CLAHE):\n",
    "    return np.array([preprocess_img(X_data[i],use_CLAHE) for i in range(len(X_data))])\n",
    "    "
   ]
  },
  {
   "cell_type": "code",
   "execution_count": 11,
   "metadata": {},
   "outputs": [
    {
     "name": "stdout",
     "output_type": "stream",
     "text": [
      "Original Image\n",
      "[[21 21 19 24 28 26 27 25 29 27]\n",
      " [23 23 21 20 22 23 23 22 27 28]\n",
      " [20 23 22 26 27 21 20 21 27 30]\n",
      " [19 20 23 28 33 24 19 20 26 29]\n",
      " [19 20 22 26 36 25 20 19 23 27]\n",
      " [19 19 20 28 36 25 22 26 32 36]\n",
      " [21 20 21 29 33 25 24 36 41 51]\n",
      " [22 21 23 30 31 24 33 41 53 75]\n",
      " [23 23 24 26 26 30 36 47 71 81]\n",
      " [24 24 22 20 22 33 42 58 69 76]]\n",
      "Preprocessed Image\n",
      "[[-0.3627451  -0.3627451  -0.4372549  -0.21372549 -0.08431373 -0.13921569\n",
      "  -0.11176471 -0.17058824 -0.05294118 -0.11176471]\n",
      " [-0.25686275 -0.25686275 -0.3627451  -0.40196078 -0.31176471 -0.25686275\n",
      "  -0.25686275 -0.31176471 -0.11176471 -0.08431373]\n",
      " [-0.40196078 -0.25686275 -0.31176471 -0.13921569 -0.11176471 -0.3627451\n",
      "  -0.40196078 -0.3627451  -0.11176471 -0.0254902 ]\n",
      " [-0.4372549  -0.40196078 -0.25686275 -0.08431373  0.02941176 -0.21372549\n",
      "  -0.4372549  -0.40196078 -0.13921569 -0.05294118]\n",
      " [-0.4372549  -0.40196078 -0.31176471 -0.13921569  0.07647059 -0.17058824\n",
      "  -0.40196078 -0.4372549  -0.25686275 -0.11176471]\n",
      " [-0.4372549  -0.4372549  -0.40196078 -0.08431373  0.07647059 -0.17058824\n",
      "  -0.31176471 -0.13921569  0.00980392  0.07647059]\n",
      " [-0.3627451  -0.40196078 -0.3627451  -0.05294118  0.02941176 -0.17058824\n",
      "  -0.21372549  0.07647059  0.15490196  0.24117647]\n",
      " [-0.31176471 -0.3627451  -0.25686275 -0.0254902  -0.01372549 -0.21372549\n",
      "   0.02941176  0.15490196  0.24901961  0.38627451]\n",
      " [-0.25686275 -0.25686275 -0.21372549 -0.13921569 -0.13921569 -0.0254902\n",
      "   0.07647059  0.21372549  0.34705882  0.47647059]\n",
      " [-0.21372549 -0.21372549 -0.31176471 -0.40196078 -0.31176471  0.02941176\n",
      "   0.1627451   0.27647059  0.33529412  0.39803922]]\n",
      "Histogram Equalized Image\n",
      "[[ 35  35  16  73 106  92  99  84 114  99]\n",
      " [ 62  62  35  25  48  62  62  48  99 106]\n",
      " [ 25  62  48  92  99  35  25  35  99 121]\n",
      " [ 16  25  62 106 135  73  16  25  92 114]\n",
      " [ 16  25  48  92 147  84  25  16  62  99]\n",
      " [ 16  16  25 106 147  84  48  92 130 147]\n",
      " [ 35  25  35 114 135  84  73 147 167 189]\n",
      " [ 48  35  62 121 124  73 135 167 191 226]\n",
      " [ 62  62  73  92  92 121 147 182 216 249]\n",
      " [ 73  73  48  25  48 135 169 198 213 229]]\n",
      "CLAHE Image\n",
      "[[ 52  52  20 115 177 132 142 107 148 110]\n",
      " [ 98 104  58  32  73  91  84  54 121 124]\n",
      " [ 32  96  76 154 163  50  27  37 121 148]\n",
      " [ 21  34  96 171 209 109  10  23 103 136]\n",
      " [ 20  34  74 151 223 124  30   8  67 117]\n",
      " [ 20  19  32 172 213 125  63 120 154 159]\n",
      " [ 52  33  49 172 193 114  95 171 181 192]\n",
      " [ 72  49  89 167 172 100 166 181 198 223]\n",
      " [ 87  87 106 132 128 154 166 187 216 246]\n",
      " [ 99 101  70  36  67 158 176 197 209 228]]\n",
      "Preprocess checked\n"
     ]
    },
    {
     "data": {
      "image/png": "[encoded data removed]",
      "text/plain": [
       "<matplotlib.figure.Figure at 0x7eff54fd29b0>"
      ]
     },
     "metadata": {
      "needs_background": "light"
     },
     "output_type": "display_data"
    }
   ],
   "source": [
    "## Test preprocess_img\n",
    "def testPreprocess(X_data): \n",
    "    A = X_data[1]\n",
    "    print('Original Image')\n",
    "    print(A[0:10,0:10,1])\n",
    "    B = preprocess_img(A,0)\n",
    "    print('Preprocessed Image')\n",
    "    print(B[0:10,0:10,1])\n",
    "    C = histEq(A)\n",
    "    print('Histogram Equalized Image')\n",
    "    print(C[0:10,0:10,1])\n",
    "    D = CLAHE(A)\n",
    "    print('CLAHE Image')\n",
    "    print(D[0:10,0:10,1])\n",
    "    plt.figure(figsize=(8, 3))\n",
    "    plt.subplot(1, 3, 1)\n",
    "    plt.imshow(A)\n",
    "    plt.title(\"Raw Image\")\n",
    "    plt.subplot(1, 3, 2)\n",
    "    plt.imshow(C)\n",
    "    plt.title(\"Histogram Equalization\")\n",
    "    plt.subplot(1, 3, 3)\n",
    "    plt.imshow(D)\n",
    "    plt.title(\"CLAHE\")\n",
    "    \n",
    "    return 0    \n",
    "    \n",
    "testPreprocess(X_train)\n",
    "print('Preprocess checked')"
   ]
  },
  {
   "cell_type": "code",
   "execution_count": 12,
   "metadata": {},
   "outputs": [],
   "source": [
    "## [3] Image Augmentations and Transformations\n",
    "\n",
    "## Brightness\n",
    "\n",
    "# Convert RGB to HSV and then alter the saturation to add affects of random brightness on the image. \n",
    "# Output: image converted back to RGB\n",
    "# (Reference to Vivek Yadav)\n",
    "def brightness_augment(img):\n",
    "    # convert to HSV\n",
    "    img_aug = cv2.cvtColor(img,cv2.COLOR_RGB2HSV)\n",
    "    img_aug = np.array(img_aug, dtype = np.float64)    # convert to float64 to allow for wider range of brightness alterations\n",
    "    \n",
    "    # random brightness\n",
    "    random_bright = 0.5+np.random.uniform()\n",
    "    \n",
    "    # apply brightness augmentation\n",
    "    img_aug[:,:,2] = img_aug[:,:,2]*random_bright\n",
    "    img_aug[:,:,2][img_aug[:,:,2] > 255] = 255         # cap the maximum brightness to 255\n",
    "    \n",
    "    # convert image back to uint8 RGB image\n",
    "    img_aug = np.array(img_aug, dtype = np.uint8)\n",
    "    img_aug = cv2.cvtColor(img_aug, cv2.COLOR_HSV2RGB)\n",
    "    \n",
    "    return img_aug\n",
    "\n",
    "def b_aug_batch(X_data):\n",
    "    return np.array([brightness_augment(X_data[i]) for i in range(len(X_data))])"
   ]
  },
  {
   "cell_type": "code",
   "execution_count": 13,
   "metadata": {},
   "outputs": [
    {
     "name": "stdout",
     "output_type": "stream",
     "text": [
      "Original Image\n",
      "[[18 19 19 19 18 18 18 18 17 17]\n",
      " [19 19 18 18 17 18 18 17 17 17]\n",
      " [18 18 18 18 17 17 18 17 17 17]\n",
      " [18 18 19 18 17 18 18 17 17 16]\n",
      " [18 18 18 18 17 18 18 17 17 17]\n",
      " [18 19 18 18 17 18 18 17 16 17]\n",
      " [18 18 17 17 17 18 17 17 17 16]\n",
      " [18 18 17 17 18 18 18 17 17 17]\n",
      " [17 17 18 18 18 18 17 17 17 17]\n",
      " [17 17 17 18 18 18 17 17 17 17]]\n",
      "Brightness Augmented Image\n",
      "[[9 9 9 9 9 9 9 9 9 9]\n",
      " [9 9 9 9 9 9 9 8 9 9]\n",
      " [9 9 9 9 9 8 9 9 9 9]\n",
      " [9 9 9 9 9 9 9 9 9 8]\n",
      " [9 9 9 9 9 9 9 9 8 9]\n",
      " [9 9 9 9 9 9 9 9 8 8]\n",
      " [9 9 8 8 9 9 9 9 8 8]\n",
      " [9 9 9 9 9 9 9 9 8 8]\n",
      " [9 9 9 9 9 9 8 8 8 8]\n",
      " [9 9 8 9 9 9 8 9 8 8]]\n",
      "Histogram Equalized Image\n",
      "[[153 153 153 153 153 153 153 153 153 153]\n",
      " [153 153 153 153 153 153 153  96 153 153]\n",
      " [153 153 153 153 153  96 153 153 153 153]\n",
      " [153 153 153 153 153 153 153 153 153  96]\n",
      " [153 153 153 153 153 153 153 153  96 153]\n",
      " [153 153 153 153 153 153 153 153  96  96]\n",
      " [153 153  96  96 153 153 153 153  96  96]\n",
      " [153 153 153 153 153 153 153 153  96  96]\n",
      " [153 153 153 153 153 153  96  96  96  96]\n",
      " [153 153  96 153 153 153  96 153  96  96]]\n",
      "CLAHE Image\n",
      "[[167 170 167 170 167 164 161 157 154 151]\n",
      " [167 167 167 167 167 164 161  98 154 151]\n",
      " [167 167 167 167 167 101 161 157 154 151]\n",
      " [167 167 167 167 167 164 161 157 154  95]\n",
      " [167 167 167 167 167 164 161 157  97 151]\n",
      " [167 167 167 167 167 164 159 156  95  93]\n",
      " [167 167 106 106 167 163 159 155  93  91]\n",
      " [167 167 167 167 167 163 158 154  92  90]\n",
      " [167 167 167 167 167 163  97  93  91  88]\n",
      " [167 167 103 167 167 162  96 152  89  86]]\n",
      "Brightness Augmentation checked\n"
     ]
    },
    {
     "data": {
      "image/png": "[encoded data removed]",
      "text/plain": [
       "<matplotlib.figure.Figure at 0x7eff511cc5f8>"
      ]
     },
     "metadata": {
      "needs_background": "light"
     },
     "output_type": "display_data"
    }
   ],
   "source": [
    "## Testing brightness_augment(img)\n",
    "def testBrightness(X_data):\n",
    "    A = X_data[0]\n",
    "    print('Original Image')\n",
    "    print(A[0:10,0:10,1])\n",
    "    B = brightness_augment(A)\n",
    "    print('Brightness Augmented Image')\n",
    "    print(B[0:10,0:10,1])\n",
    "    C = histEq(B)\n",
    "    print('Histogram Equalized Image')\n",
    "    print(C[0:10,0:10,1])\n",
    "    D = CLAHE(B)\n",
    "    print('CLAHE Image')\n",
    "    print(D[0:10,0:10,1])\n",
    "    plt.figure(figsize=(10, 3))\n",
    "    plt.subplot(1, 4, 1)\n",
    "    plt.imshow(A)\n",
    "    plt.title(\"Raw Image\")\n",
    "    plt.subplot(1, 4, 2)\n",
    "    plt.imshow(B)\n",
    "    plt.title(\"Brightness Augmented\")\n",
    "    plt.subplot(1, 4, 3)\n",
    "    plt.imshow(C)\n",
    "    plt.title(\"Histogram Equalization\")\n",
    "    plt.subplot(1, 4, 4)\n",
    "    plt.imshow(C)\n",
    "    plt.title(\"CLAHE\")\n",
    "    \n",
    "    return 0\n",
    "\n",
    "testBrightness(X_train)\n",
    "print('Brightness Augmentation checked')"
   ]
  },
  {
   "cell_type": "code",
   "execution_count": 14,
   "metadata": {},
   "outputs": [],
   "source": [
    "## Transformations\n",
    "# Rotations, translation, and shearing are to remove the importance of global spatial positioning of the sign within the image\n",
    "# from the model, so images of signs that are not centered or are rotated or sheared will can be detected equally. \n",
    "\n",
    "def rotate(img,ang_range,return_image=0):\n",
    "    ang_rot = np.random.uniform(ang_range) - ang_range/2              # generate random angle rotation within range\n",
    "    h,w,ch = image.shape\n",
    "    c_x, c_y = int(h/2), int(w/2)           \n",
    "    \n",
    "    # generate rotation matrix\n",
    "    rot_M = cv2.getRotationMatrix2D((c_x,c_y),ang_rot,1)              \n",
    "    \n",
    "    # return rotated image or rotation matrix\n",
    "    if return_image:\n",
    "        # rotate image\n",
    "        rot = cv2.warpAffine(img,rot_M,img.shape[:2])\n",
    "    else:\n",
    "        rot = rot_M\n",
    "    return rot\n",
    "\n",
    "def translate(img,trans_range,return_image = 0):\n",
    "    trans_x = trans_range*np.random.uniform()-trans_range/2\n",
    "    trans_y = trans_range*np.random.uniform()-trans_range/2\n",
    "    \n",
    "    # generate translation matrix\n",
    "    trans_M = np.float32([[1,0,trans_x],[0,1,trans_y]])\n",
    "    \n",
    "    # return translated image or translation matrix\n",
    "    if return_image:\n",
    "        # translate image\n",
    "        trans = cv2.warpAffine(img,trans_M,img.shape[:2])\n",
    "    else:\n",
    "        trans = trans_M\n",
    "    return trans\n",
    "\n",
    "# Shear image to account for different angles which images are taken at. \n",
    "# (Reference to Vivek Yadav)\n",
    "def shear(img,shear_range,return_image = 0):\n",
    "    # define reference points \n",
    "    a = 5                      \n",
    "    b = 20\n",
    "    pts1 = np.float32([[a,a],[b,a],[a,b]])\n",
    "    \n",
    "    # define sheared points\n",
    "    shear_a = a + shear_range*np.random.uniform()-shear_range/2\n",
    "    shear_b = b + shear_range*np.random.uniform()-shear_range/2\n",
    "    \n",
    "    pts2 = np.float32([[shear_a,a],[shear_b,shear_a],[a,shear_b]])\n",
    "    \n",
    "    # generate shearing matrix \n",
    "    shear_M = cv2.getAffineTransform(pts1,pts2)\n",
    "    \n",
    "    # return sheared image or shearing matrix\n",
    "    if return_image:\n",
    "        shear = cv2.warpAffine(img,shear_M,img.shape[:2])\n",
    "    else:\n",
    "        shear = shear_M\n",
    "    return shear\n",
    "    \n",
    "def transform_img(img,ang_range,trans_range,shear_range):\n",
    "    # rotation \n",
    "    rotM = rotate(img,ang_range, 0)\n",
    "    \n",
    "    # translation\n",
    "    transM = translate(img,trans_range, 0)\n",
    "    \n",
    "    # shear \n",
    "    shearM = shear(img,shear_range, 0)\n",
    "    \n",
    "    # combine\n",
    "    transf_img = cv2.warpAffine(img,rotM,img.shape[:2])\n",
    "    transf_img = cv2.warpAffine(transf_img,transM,transf_img.shape[:2])\n",
    "    transf_img = cv2.warpAffine(transf_img,shearM,transf_img.shape[:2])\n",
    "    \n",
    "    return transf_img\n",
    "\n",
    "def transform_batch(X_data,ang_range,trans_range,shear_range):\n",
    "    for i in range(len(X_data)):\n",
    "        X_data[i] = transform_img(X_data[i],ang_range,trans_range,shear_range)\n",
    "        \n",
    "    return X_data\n"
   ]
  },
  {
   "cell_type": "code",
   "execution_count": 15,
   "metadata": {},
   "outputs": [
    {
     "name": "stdout",
     "output_type": "stream",
     "text": [
      "Transformations Checked\n"
     ]
    },
    {
     "data": {
      "image/png": "[encoded data removed]",
      "text/plain": [
       "<matplotlib.figure.Figure at 0x7eff50becb70>"
      ]
     },
     "metadata": {
      "needs_background": "light"
     },
     "output_type": "display_data"
    }
   ],
   "source": [
    "## Testing transformations:\n",
    "def testTransformation(X_data,ang_range,trans_range,shear_range):\n",
    "    A = X_data[200]\n",
    "    \n",
    "    # rotation \n",
    "    rotImg = rotate(A,ang_range,1)\n",
    "    \n",
    "    # translation\n",
    "    transImg = translate(A,trans_range,1)\n",
    "    \n",
    "    # shear \n",
    "    shearImg = shear(A,shear_range,1)\n",
    "    \n",
    "    # combined (different rotation, translation, and shear than individual ones)\n",
    "    transfImg = transform_img(A,ang_range,trans_range,shear_range)\n",
    "    \n",
    "    # plotting\n",
    "    plt.figure(figsize=(12, 3))\n",
    "    plt.subplot(1, 5, 1)\n",
    "    plt.imshow(A)\n",
    "    plt.title(\"Raw Image\")\n",
    "    plt.subplot(1, 5, 2)\n",
    "    plt.imshow(rotImg)\n",
    "    plt.title(\"Rotated Image\")\n",
    "    plt.subplot(1, 5, 3)\n",
    "    plt.imshow(transImg)\n",
    "    plt.title(\"Translated Image\")\n",
    "    plt.subplot(1, 5, 4)\n",
    "    plt.imshow(shearImg)\n",
    "    plt.title(\"Sheared Image\")\n",
    "    plt.subplot(1, 5, 5)\n",
    "    plt.imshow(transfImg)\n",
    "    plt.title(\"Transformed Image\")\n",
    "    \n",
    "    return 0\n",
    "\n",
    "# can play around with these values\n",
    "ang_range = 90              \n",
    "trans_range = 10\n",
    "shear_range = 5\n",
    "testTransformation(X_train,ang_range,trans_range,shear_range)\n",
    "print('Transformations Checked')"
   ]
  },
  {
   "cell_type": "code",
   "execution_count": 16,
   "metadata": {},
   "outputs": [],
   "source": [
    "# [4] Data Processing for Data Sets \n",
    "\n",
    "## [A] Training Data\n",
    "# Apply: Transformations, Brightness Augmentations, and lastly Preprocessing\n",
    "# Shuffle data for each epoch\n",
    "def process_train_img(img,ang_range,trans_range,shear_range,use_CLAHE):\n",
    "    \n",
    "    # Transformations\n",
    "    img = transform_img(img,ang_range,trans_range,shear_range)\n",
    "    \n",
    "    # Brightness Augmentation\n",
    "    img = brightness_augment(img)\n",
    "    \n",
    "    # Preprocessing\n",
    "    img = preprocess_img(img,use_CLAHE)\n",
    "    \n",
    "    return img\n",
    "\n",
    "def process_train_batch(X_data,y_data,ang_range,trans_range,shear_range,use_CLAHE):\n",
    "\n",
    "    # Shuffle the data\n",
    "    X_data, y_data = shuffle(X_data, y_data)\n",
    "    \n",
    "    # process all images in batch\n",
    "    for i in range(len(X_data)):\n",
    "        X_data[i] = process_train_img(X_data[i],ang_range,trans_range,shear_range,use_CLAHE)\n",
    "    \n",
    "    return X_data, y_data\n",
    "\n",
    "## [B] Validation Data\n",
    "# Apply: Preprocessing\n",
    "# Shuffle data for each epoch\n",
    "\n",
    "def shuffle_preprocess(X_data,y_data,use_CLAHE):\n",
    "    # Shuffle the data\n",
    "    X_data, y_data = shuffle(X_data, y_data)\n",
    "\n",
    "    # preprocess all images in data set\n",
    "    X_data = preprocess_batch(X_data,use_CLAHE)\n",
    "    \n",
    "    return X_data, y_data\n",
    "    \n",
    "## [C] Testing Data\n",
    "# Apply: Preprocessing\n",
    "# use shuffle_preprocess(X_test,y_test,use_CLAHE) or simply shuffle the test data and use preprocess_batch()"
   ]
  },
  {
   "cell_type": "code",
   "execution_count": 17,
   "metadata": {},
   "outputs": [
    {
     "name": "stdout",
     "output_type": "stream",
     "text": [
      "Data Processing for 1 Epoch Takes ~ 17.076480388641357  Seconds.\n",
      "Data Processing Checked\n"
     ]
    }
   ],
   "source": [
    "## Test Data Processing \n",
    "\n",
    "def testDataProcessing(X_train, y_train, X_valid, y_valid, X_test, y_test, ang_range, trans_range, shear_range, use_CLAHE):\n",
    "    \n",
    "    # Training Data Set\n",
    "    X_train_processed, y_train_processed = process_train_batch(X_train,y_train,ang_range,trans_range,shear_range,use_CLAHE)\n",
    "\n",
    "    # Validation Data Set \n",
    "    X_valid_processed, y_valid_processed = shuffle_preprocess(X_valid,y_valid,use_CLAHE)\n",
    "    \n",
    "    # Test Data Set \n",
    "    X_test_processed, y_valid_processed = shuffle_preprocess(X_test,y_test,use_CLAHE)\n",
    "    \n",
    "    return 0\n",
    "\n",
    "ang_range = 90              \n",
    "trans_range = 10\n",
    "shear_range = 5\n",
    "use_CLAHE = 1    \n",
    "start_time = time.time()\n",
    "testDataProcessing(X_train, y_train, X_valid, y_valid, X_test, y_test, ang_range, trans_range, shear_range, use_CLAHE)\n",
    "end_time = time.time()\n",
    "time_diff = end_time-start_time \n",
    "print('Data Processing for 1 Epoch Takes ~',time_diff,' Seconds.')\n",
    "print('Data Processing Checked')"
   ]
  },
  {
   "cell_type": "markdown",
   "metadata": {},
   "source": [
    "### Setup TensorFlow"
   ]
  },
  {
   "cell_type": "code",
   "execution_count": 18,
   "metadata": {},
   "outputs": [
    {
     "name": "stdout",
     "output_type": "stream",
     "text": [
      "TensorFlow is setup. Proceed..\n"
     ]
    }
   ],
   "source": [
    "import tensorflow as tf\n",
    "print(\"TensorFlow is setup. Proceed..\")"
   ]
  },
  {
   "cell_type": "markdown",
   "metadata": {},
   "source": [
    "## Model Architecture"
   ]
  },
  {
   "cell_type": "markdown",
   "metadata": {},
   "source": [
    "### Initial Attempt Archetecture (Based off LeNet-5)\n",
    "\n",
    "### Input\n",
    "The LeNet architecture accepts a 32x32xC image as input, where C is the number of color channels. Since our images are in color, C is 3 in this case.\n",
    "\n",
    "### Archetecture \n",
    "**Layer 1: Convolutional.** Output shape: [28,28,6]\n",
    "<br>\n",
    "**Activation.** ReLu\n",
    "<br>\n",
    "**Pooling.** Output shape: [14,14,6]\n",
    "\n",
    "**Layer 2: Convolutonal.** Output shape: [10,10,16]\n",
    "<br>\n",
    "**Activation.** ReLu\n",
    "<br>\n",
    "**Pooling.** Output shape: [5,5,16]\n",
    "\n",
    "**Flatten** [5,5,16] --> [400]\n",
    "Flatten converts output from 3D to 1D to transition from filter layers to fully connected layers\n",
    "\n",
    "**Layer 3: Fully Connected.** Output shape: [120]\n",
    "<br>\n",
    "**Activation.** ReLu\n",
    "\n",
    "**Layer 4: Fully Connected.** Output shape: [84]\n",
    "<br>\n",
    "**Activation.** ReLu\n",
    "\n",
    "**Layer 5: Fully Connected (Logits).** Output shape: [43]\n",
    "\n",
    "### Output \n",
    "Return the result of final fully connected layer (logits)\n",
    "\n"
   ]
  },
  {
   "cell_type": "code",
   "execution_count": 19,
   "metadata": {},
   "outputs": [],
   "source": [
    "### Define your architecture here.\n",
    "### Feel free to use as many code cells as needed.\n",
    "from tensorflow.contrib.layers import flatten"
   ]
  },
  {
   "cell_type": "code",
   "execution_count": 20,
   "metadata": {},
   "outputs": [],
   "source": [
    "\n",
    "def conv2d(x, W, b, strides=1):\n",
    "    x = tf.nn.conv2d(x, W, strides=[1, strides, strides, 1], padding='VALID')\n",
    "    x = tf.nn.bias_add(x, b)\n",
    "    return tf.nn.relu(x)\n",
    "\n",
    "def maxpool2d(x, k=2):\n",
    "    return tf.nn.max_pool(x, ksize=[1, k, k, 1], strides=[1, k, k, 1], padding='SAME')\n",
    "\n",
    "def fullConn(x,W,b):\n",
    "    return (tf.matmul(x,W) + b)"
   ]
  },
  {
   "cell_type": "code",
   "execution_count": 21,
   "metadata": {},
   "outputs": [],
   "source": [
    "## Le-Net Archetecture\n",
    "def LeNet(x):    \n",
    "    # Arguments used for tf.truncated_normal, randomly defines variables for the weights and biases for each layer\n",
    "    mu = 0\n",
    "    sigma = 0.1\n",
    "    \n",
    "    #  Create Layer's Weights and Biases \n",
    "    weights = {\n",
    "        'W_conv1': tf.Variable(tf.truncated_normal([5, 5, 3, 6], mean = mu, stddev = sigma)),\n",
    "        'W_conv2': tf.Variable(tf.truncated_normal([5, 5, 6, 16], mean = mu, stddev = sigma)),\n",
    "        'W_fc1': tf.Variable(tf.truncated_normal([400, 120], mean = mu, stddev = sigma)),\n",
    "        'W_fc2': tf.Variable(tf.truncated_normal([120, 84], mean = mu, stddev = sigma)),\n",
    "        'W_fc3': tf.Variable(tf.truncated_normal([84, 43], mean = mu, stddev = sigma))}\n",
    "\n",
    "\n",
    "    biases = {\n",
    "        'b_conv1': tf.Variable(tf.zeros([6])),\n",
    "        'b_conv2': tf.Variable(tf.zeros([16])),\n",
    "        'b_fc1': tf.Variable(tf.zeros([120])),\n",
    "        'b_fc2': tf.Variable(tf.zeros([84])),\n",
    "        'b_fc3': tf.Variable(tf.zeros([43]))}\n",
    "\n",
    "    \n",
    "    # TODO: Layer 1: Convolutional + Activation. Input = 32x32x1. Output = 28x28x6.\n",
    "    conv1 = conv2d(x, weights['W_conv1'], biases['b_conv1'],strides=1)\n",
    "    \n",
    "    # TODO: Pooling. Input = 28x28x6. Output = 14x14x6.\n",
    "    conv1 = maxpool2d(conv1, 2)\n",
    "\n",
    "    # TODO: Layer 2: Convolutional + Activation. Output = 10x10x16.\n",
    "    conv2 = conv2d(conv1, weights['W_conv2'], biases['b_conv2'],strides=1)\n",
    "    \n",
    "    # TODO: Pooling. Input = 10x10x16. Output = 5x5x16.\n",
    "    conv2 = maxpool2d(conv2, 2)\n",
    "    \n",
    "    # TODO: Flatten. Input = 5x5x16. Output = 400.\n",
    "    #print(conv2.get_shape())\n",
    "    fc0 = flatten(conv2)\n",
    "    #print(fc0.get_shape())\n",
    "    \n",
    "    # TODO: Layer 3: Fully Connected. Input = 400. Output = 120.\n",
    "    fc1 = fullConn(fc0, weights['W_fc1'], biases['b_fc1'])\n",
    "    \n",
    "    # TODO: Activation.\n",
    "    fc1 = tf.nn.relu(fc1)\n",
    "\n",
    "    # TODO: Layer 4: Fully Connected. Input = 120. Output = 84.\n",
    "    fc2 = fullConn(fc1, weights['W_fc2'], biases['b_fc2'])\n",
    "    \n",
    "    # TODO: Activation.\n",
    "    fc2 = tf.nn.relu(fc2)\n",
    "\n",
    "    # TODO: Layer 5: Fully Connected. Input = 84. Output = 43.\n",
    "    logits = fullConn(fc2, weights['W_fc3'], biases['b_fc3'])\n",
    "    \n",
    "    return logits"
   ]
  },
  {
   "cell_type": "markdown",
   "metadata": {},
   "source": [
    "### Second Attempt Archetecture (model 2)\n",
    "\n",
    "### Input\n",
    "The LeNet architecture accepts a 32x32xC image as input, where C is the number of color channels. Since our images are in color, C is 3 in this case.\n",
    "\n",
    "### Archetecture \n",
    "**Layer 1: Convolutional 1x1x3.** Output shape: [32,32,3]\n",
    "<br>\n",
    "**Activation.** ReLu\n",
    "\n",
    "**Layer 2: Convolutional.** Output shape: [28,28,6]\n",
    "<br>\n",
    "**Activation.** ReLu\n",
    "<br>\n",
    "**Pooling.** Output shape: [14,14,6]\n",
    "<br>\n",
    "**Dropout.** Rate = 0.5, Output shape: [14,14,6]\n",
    "\n",
    "**Layer 3: Convolutonal.** Output shape: [10,10,16]\n",
    "<br>\n",
    "**Activation.** ReLu\n",
    "<br>\n",
    "**Pooling.** Output shape: [5,5,16]\n",
    "<br>\n",
    "**Dropout.** Rate = 0.5, Output shape: [5,5,16]\n",
    "\n",
    "**Flatten** [5,5,16] --> [400]\n",
    "Flatten converts output from 3D to 1D to transition from filter layers to fully connected layers\n",
    "\n",
    "**Layer 4: Fully Connected.** Output shape: [120]\n",
    "<br>\n",
    "**Activation.** ReLu\n",
    "<br>\n",
    "**Dropout.** Rate = 0.5, Output shape: [120]\n",
    "\n",
    "**Layer 5: Fully Connected.** Output shape: [84]\n",
    "<br>\n",
    "**Activation.** ReLu\n",
    "<br>\n",
    "**Dropout.** Rate = 0.5, Output shape: [84]\n",
    "\n",
    "**Layer 6: Fully Connected (Logits).** Output shape: [43]\n",
    "\n",
    "### Output \n",
    "Return the result of final fully connected layer (logits)\n"
   ]
  },
  {
   "cell_type": "code",
   "execution_count": null,
   "metadata": {},
   "outputs": [],
   "source": [
    "def conv_layer(x, input_depth, filter_size, num_filter, W_name, b_name, mu, sigma, strides):\n",
    "    # Create W\n",
    "    W = tf.Variable(tf.truncated_normal([filter_size, filter_size, input_depth, num_filter], mean = mu, stddev = sigma),\n",
    "                   name=W_name)\n",
    "    # Create b\n",
    "    b = tf.Variable(tf.zeros([filter_size]),\n",
    "                   name=b_name)\n",
    "    \n",
    "    # create convolutional layer \n",
    "    conv = tf.nn.conv2d(x, W, strides=[1, strides, strides, 1], padding='VALID')\n",
    "    conv = tf.nn.bias_add(conv, b)\n",
    "    conv = tf.nn.relu(conv)        # add activation\n",
    "    \n",
    "    return W,b,conv\n",
    "\n",
    "\n",
    "def fullyConn_layer(x, num_input, num_output, W_name, b_name, mu, sigma):\n",
    "    # Create W\n",
    "    W = tf.Variable(tf.truncated_normal([num_input, num_output], mean = mu, stddev = sigma),\n",
    "                   name=W_name)\n",
    "    # Create b\n",
    "    b = tf.Variable(tf.zeros([num_output]),\n",
    "                   name=b_name)\n",
    "    \n",
    "    # create fully connected layer\n",
    "    fc = (tf.matmul(x,W) + b)\n",
    "    \n",
    "    return W,b,fc"
   ]
  },
  {
   "cell_type": "code",
   "execution_count": null,
   "metadata": {},
   "outputs": [],
   "source": [
    "## Second Attempt Model\n",
    "def model2(x,keep_prob):    \n",
    "    # Arguments used for tf.truncated_normal, randomly defines variables for the weights and biases for each layer\n",
    "    mu = 0\n",
    "    sigma = 0.1\n",
    "    \n",
    "    # Variables for Layers: \n",
    "    input_depth = 3\n",
    "    \n",
    "    # Layer 0: 1x1 Convolutional\n",
    "    filter_size_0 = 1\n",
    "    filter_num_0 = 3\n",
    "    W_name_conv0, b_name_conv0 = 'W_conv0', 'b_conv0' \n",
    "    \n",
    "    # Layer 1: Convolutional \n",
    "    filter_size_1 = 5\n",
    "    filter_num_1 = 6\n",
    "    W_name_conv1, b_name_conv1 = 'W_conv1', 'b_conv1' \n",
    "\n",
    "    # Layer 2: Convolutional\n",
    "    filter_size_2 = 5\n",
    "    filter_num_2 = 16\n",
    "    W_name_conv2, b_name_conv2 = 'W_conv2', 'b_conv2' \n",
    "    \n",
    "    # Layer 3: Convolutional\n",
    "    filter_size_3 = 5\n",
    "    filter_num_3 = 32\n",
    "    W_name_conv3, b_name_conv3 = 'W_conv3', 'b_conv3' \n",
    "    \n",
    "    # Layer 4: Fully Connected \n",
    "    fc_out_1 = 120\n",
    "    W_name_fc1, b_name_fc1 = 'W_fc1', 'b_fc1' \n",
    "    \n",
    "    # Layer 5: Fully Connected \n",
    "    fc_out_2 = 84\n",
    "    W_name_fc2, b_name_fc2 = 'W_fc2', 'b_fc2' \n",
    "    \n",
    "    # Layer 6: Fully Connected (LAST LAYER MUST HAVE 43 OUTPUTS)\n",
    "    fc_out_3 = 43\n",
    "    W_name_fc3, b_name_fc3 = 'W_fc3', 'b_fc3' \n",
    "    \n",
    "\n",
    "    ## PIPELINE\n",
    "    \n",
    "    ### [0.] ###\n",
    "    \n",
    "    # Layer 0: Convolutional [1x1x3] + Activation. Input = 32x32x3. Output = 32x32x1.\n",
    "    W_conv0, b_conv0, conv0 = conv_layer(x, input_depth, filter_size_0, filter_num_0, W_name_conv0, b_name_conv0,\n",
    "                                       mu, sigma, strides=1)\n",
    "    ### [I.] ###\n",
    "    \n",
    "    # Layer 1: Convolutional + Activation. Input = 32x32x3. Output = 28x28x6.\n",
    "    W_conv1, b_conv1, conv1 = conv_layer(x, filter_num_0, filter_size_1, filter_num_1, W_name_conv1, b_name_conv1,\n",
    "                                       mu, sigma, strides=1)\n",
    "    # Pooling. Input = 28x28x6. Output = 14x14x6.\n",
    "    conv1 = maxpool2d(conv1, 2)\n",
    "    \n",
    "    # Dropout. Input = 14x14x6. Output = 14x14x6.\n",
    "    conv1_dropout = tf.nn.dropout(conv1,keep_prob)\n",
    "\n",
    "    ### [II.] ###   \n",
    "    \n",
    "    # Layer 2: Convolutional + Activation. Output = 10x10x16.\n",
    "    W_conv2, b_conv2, conv2 = conv_layer(x, filter_num_1, filter_size_2, filter_num_2, W_name_conv2, b_name_conv2,\n",
    "                                       mu, sigma, strides=1)\n",
    "    # Pooling. Input = 10x10x16. Output = 5x5x16.\n",
    "    conv2 = maxpool2d(conv2, 2)\n",
    "    \n",
    "    # Dropout. Input = 10x10x16. Output = 5x5x16.\n",
    "    conv2_dropout = tf.nn.dropout(conv2,keep_prob)\n",
    "    \n",
    "    ### [III.] ###\n",
    "    \n",
    "    # Layer 3: Convolutional + Activation. Output = 5x5x16.\n",
    "    W_conv3, b_conv3, conv3 = conv_layer(x, filter_num_2, filter_size_3, filter_num_3, W_name_conv3, b_name_conv3,\n",
    "                                       mu, sigma, strides=1)\n",
    "    # Pooling. Input = 5x5x16. Output = 5x5x16.\n",
    "    conv3 = maxpool2d(conv3, 2)\n",
    "    \n",
    "    # Dropout. Input = 10x10x16. Output = 5x5x16.\n",
    "    conv3_dropout = tf.nn.dropout(conv3,keep_prob)\n",
    "    \n",
    "    ### [flatten] ###\n",
    "    \n",
    "    # Flatten. Input = 5x5x16. Output = 400.\n",
    "    fc0 = flatten(conv3_dropout)  \n",
    "    fc_out_0 = len(fc0)\n",
    "    \n",
    "    ### [IV.] ###\n",
    "    \n",
    "    # Layer 4: Fully Connected. Input = 400. Output = 120.\n",
    "    W_fc1, b_fc1, fc1 = fullConn_layer(x, fc_out_0, fc_out_1, W_name_fc1, b_name_fc1, \n",
    "                                       mu, sigma)\n",
    "    # Activation.\n",
    "    fc1 = tf.nn.relu(fc1)\n",
    "    \n",
    "    # Dropout. Input = 10x10x16. Output = 5x5x16.\n",
    "    fc1_dropout = tf.nn.dropout(fc1,keep_prob)\n",
    "\n",
    "    ### [V.] ###\n",
    "    \n",
    "    # Layer 5: Fully Connected. Input = 120. Output = 84.\n",
    "    W_fc2, b_fc2, fc2 = fullConn_layer(x, fc_out_1, fc_out_2, W_name_fc2, b_name_fc2, \n",
    "                                       mu, sigma)\n",
    "    # Activation.\n",
    "    fc2 = tf.nn.relu(fc2)\n",
    "    \n",
    "    # Dropout. Input = 10x10x16. Output = 5x5x16.\n",
    "    fc2_dropout = tf.nn.dropout(fc2,keep_prob)\n",
    "\n",
    "    ### [VI.] ###\n",
    "    \n",
    "    # Layer 6: Fully Connected. Input = 84. Output = 43.\n",
    "    W_fc3, b_fc3, logits = fullConn_layer(x, fc_out_2, fc_out_3, W_name_fc3, b_name_fc3, \n",
    "                                       mu, sigma)\n",
    "    return logits, W_conv0, W_conv1, W_conv2, W_conv3, W_fc1, W_fc2, W_fc3"
   ]
  },
  {
   "cell_type": "markdown",
   "metadata": {},
   "source": [
    "### Features and Labels\n",
    "Train the model to calssify the traffic sign data.\n",
    "\n",
    "x is a placeholder for a batch of input images. \n",
    "y is a plcaeholder for a batch of output labels."
   ]
  },
  {
   "cell_type": "code",
   "execution_count": 22,
   "metadata": {},
   "outputs": [],
   "source": [
    "x = tf.placeholder(tf.float32, (None, 32, 32, 3))\n",
    "y = tf.placeholder(tf.int32, (None))\n",
    "keep_prob = tf.placeholder(\"float\")\n",
    "one_hot_y = tf.one_hot(y, 43)"
   ]
  },
  {
   "cell_type": "markdown",
   "metadata": {},
   "source": [
    "## Train, Validate and Test the Model"
   ]
  },
  {
   "cell_type": "markdown",
   "metadata": {},
   "source": [
    "A validation set can be used to assess how well the model is performing. A low accuracy on the training and validation\n",
    "sets imply underfitting. A high accuracy on the training set but low accuracy on the validation set implies overfitting."
   ]
  },
  {
   "cell_type": "code",
   "execution_count": 29,
   "metadata": {},
   "outputs": [],
   "source": [
    "### Train your model here.\n",
    "### Calculate and report the accuracy on the training and validation set.\n",
    "### Once a final model architecture is selected, \n",
    "### the accuracy on the test set should be calculated and reported as well.\n",
    "### Feel free to use as many code cells as needed.\n",
    "\n",
    "# Hyperparameters\n",
    "EPOCHS = 15\n",
    "BATCH_SIZE = 128\n",
    "rate = 0.001              # learning rate\n",
    "keep_prob = 0.5           # dropout probability\n",
    "beta = 0.0005             # L2 Regularization scaling factor\n",
    "\n",
    "# Parameters \n",
    "use_CLAHE = 0             # Set if CLAHE (use_CLAHE = 1) or Histogram Equalization (use_CLAHE = 0) is used,\n",
    "ang_range = 10            # angle rotation range, Past [10*, 90, 30]\n",
    "trans_range = 2           # translation range, Past [2*, 10, 10]\n",
    "shear_range = 2           # shear range, Past [2*, 5, 5]\n",
    "decrease_rate = 0.9       # transformation loss rate\n",
    "\n",
    "# Set Testing Data\n",
    "X_test_processed, y_test_processed = shuffle_preprocess(X_test, y_test, use_CLAHE = 1)    # UPDATE use_CLAHE for final model that you test"
   ]
  },
  {
   "cell_type": "markdown",
   "metadata": {},
   "source": [
    "### Training Pipeline\n",
    "\n",
    "Create a training pipleline that uses the model to classify the traffic sign data. "
   ]
  },
  {
   "cell_type": "code",
   "execution_count": 24,
   "metadata": {},
   "outputs": [],
   "source": [
    "### Le-Net Training Pipeline \n",
    "\n",
    "#logits = lenet(x)\n",
    "logits, W_conv0, W_conv1, W_conv2, W_conv3, W_fc1, W_fc2, W_fc3 = model2(x,keep_prob)\n",
    "\n",
    "regularizers = (tf.nn.l2_loss(W_conv0)\n",
    "               + tf.nn.l2_loss(W_conv1)\n",
    "               + tf.nn.l2_loss(W_conv2)\n",
    "               + tf.nn.l2_loss(W_conv3)\n",
    "               + tf.nn.l2_loss(W_fc1)\n",
    "               + tf.nn.l2_loss(W_fc2)\n",
    "               + tf.nn.l2_loss(W_fc3))\n",
    "\n",
    "cross_entropy = tf.nn.softmax_cross_entropy_with_logits(labels=one_hot_y, logits=logits)\n",
    "\n",
    "loss_operation = tf.reduce_mean(cross_entropy)+beta*regularizers\n",
    "\n",
    "optimizer = tf.train.AdamOptimizer(learning_rate = rate)\n",
    "training_operation = optimizer.minimize(loss_operation)"
   ]
  },
  {
   "cell_type": "markdown",
   "metadata": {},
   "source": [
    "### Model Evaluation\n",
    "Evaluate the loss and acuracy of the model for a given data set."
   ]
  },
  {
   "cell_type": "code",
   "execution_count": 25,
   "metadata": {},
   "outputs": [],
   "source": [
    "correct_prediction = tf.equal(tf.argmax(logits, 1), tf.argmax(one_hot_y, 1))\n",
    "accuracy_operation = tf.reduce_mean(tf.cast(correct_prediction, tf.float32))\n",
    "saver = tf.train.Saver()\n",
    "\n",
    "def evaluate(X_data, y_data):\n",
    "    num_examples = len(X_data)\n",
    "    total_accuracy = 0\n",
    "    sess = tf.get_default_session()\n",
    "    for offset in range(0, num_examples, BATCH_SIZE):\n",
    "        batch_x, batch_y = X_data[offset:offset+BATCH_SIZE], y_data[offset:offset+BATCH_SIZE]\n",
    "        accuracy = sess.run(accuracy_operation, feed_dict={x: batch_x, y: batch_y})\n",
    "        total_accuracy += (accuracy * len(batch_x))\n",
    "    return total_accuracy / num_examples"
   ]
  },
  {
   "cell_type": "markdown",
   "metadata": {},
   "source": [
    "### Train and Validate the Model\n",
    "Run the training data trhough the training pipeline to train the model. \n",
    "* Before each epoch, shuffle the training set.\n",
    "* After each epoch, measure the loss and accuracy of the validation set.\n",
    "* Save the model after training. "
   ]
  },
  {
   "cell_type": "code",
   "execution_count": 30,
   "metadata": {},
   "outputs": [
    {
     "name": "stdout",
     "output_type": "stream",
     "text": [
      "Training...\n",
      "\n",
      "EPOCH 1 ...\n",
      "Validation Accuracy = 0.056\n",
      "Run Time:  10.270148277282715  Seconds\n",
      "\n",
      "EPOCH 2 ...\n",
      "Validation Accuracy = 0.126\n",
      "Run Time:  10.541080474853516  Seconds\n",
      "\n",
      "EPOCH 3 ...\n",
      "Validation Accuracy = 0.112\n",
      "Run Time:  10.2315092086792  Seconds\n",
      "\n",
      "EPOCH 4 ...\n",
      "Validation Accuracy = 0.137\n",
      "Run Time:  10.263783931732178  Seconds\n",
      "\n",
      "EPOCH 5 ...\n",
      "Validation Accuracy = 0.124\n",
      "Run Time:  10.367727518081665  Seconds\n",
      "\n",
      "EPOCH 6 ...\n",
      "Validation Accuracy = 0.134\n",
      "Run Time:  10.153449296951294  Seconds\n",
      "\n",
      "EPOCH 7 ...\n",
      "Validation Accuracy = 0.113\n",
      "Run Time:  10.34963321685791  Seconds\n",
      "\n",
      "EPOCH 8 ...\n",
      "Validation Accuracy = 0.111\n",
      "Run Time:  10.320690870285034  Seconds\n",
      "\n",
      "EPOCH 9 ...\n",
      "Validation Accuracy = 0.119\n",
      "Run Time:  10.101816892623901  Seconds\n",
      "\n",
      "EPOCH 10 ...\n",
      "Validation Accuracy = 0.123\n",
      "Run Time:  10.115209341049194  Seconds\n",
      "\n",
      "EPOCH 11 ...\n",
      "Validation Accuracy = 0.120\n",
      "Run Time:  10.13735556602478  Seconds\n",
      "\n",
      "EPOCH 12 ...\n",
      "Validation Accuracy = 0.108\n",
      "Run Time:  10.227293491363525  Seconds\n",
      "\n",
      "EPOCH 13 ...\n",
      "Validation Accuracy = 0.136\n",
      "Run Time:  10.160501718521118  Seconds\n",
      "\n",
      "EPOCH 14 ...\n",
      "Validation Accuracy = 0.127\n",
      "Run Time:  10.289417266845703  Seconds\n",
      "\n",
      "EPOCH 15 ...\n",
      "Validation Accuracy = 0.127\n",
      "Run Time:  10.280040740966797  Seconds\n",
      "\n",
      "Model saved\n",
      "Total training Time:  153.89744424819946  Seconds\n"
     ]
    }
   ],
   "source": [
    "start_time = time.time()           # time training\n",
    "\n",
    "with tf.Session() as sess:\n",
    "    sess.run(tf.global_variables_initializer())\n",
    "    num_examples = len(X_train)\n",
    "    \n",
    "    print(\"Training...\")\n",
    "    print()\n",
    "    for i in range(EPOCHS):\n",
    "        epoch_start_time = time.time() # time epoch training time\n",
    "        \n",
    "        # incremently reduce transformations\n",
    "        ang_range = ang_range*(decrease_rate**i)\n",
    "        trans_range = trans_range*(decrease_rate**i)\n",
    "        shear_range = shear_range*(decrease_rate**i)  \n",
    "        \n",
    "        # Process Training Data and Validation Data for each EPOCH\n",
    "        # TRAINING\n",
    "        #X_train_processed, y_train_processed = process_train_batch(X_train,y_train,ang_range,trans_range,shear_range,use_CLAHE)\n",
    "        \n",
    "        #### Transform, brightness, preprocess\n",
    "        #X_train_processed = transform_batch(X_train,ang_range,trans_range,shear_range)                    # transformations \n",
    "        #X_train_processed = b_aug_batch(X_train_processed)                                                # brightness \n",
    "        #X_train_processed, y_train_processed = shuffle_preprocess(X_train_processed,y_train,use_CLAHE)    # preprocessing\n",
    "        \n",
    "        #### Brightness, preprocess \n",
    "        #X_train_processed = b_aug_batch(X_train)                                                          # brightness \n",
    "        #X_train_processed, y_train_processed = shuffle_preprocess(X_train_processed,y_train,use_CLAHE)    # preprocessing\n",
    "        \n",
    "        #### Preprocess\n",
    "        X_train_processed, y_train_processed = shuffle_preprocess(X_train_processed,y_train,use_CLAHE)    # preprocessing\n",
    "\n",
    "        # VALIDATION\n",
    "        X_valid_processed, y_valid_processed = shuffle_preprocess(X_valid,y_valid,use_CLAHE)\n",
    "        \n",
    "        for offset in range(0, num_examples, BATCH_SIZE):\n",
    "            end = offset + BATCH_SIZE\n",
    "            batch_x, batch_y = X_train_processed[offset:end], y_train_processed[offset:end]\n",
    "            sess.run(training_operation, feed_dict={x: batch_x, y: batch_y})\n",
    "            \n",
    "        validation_accuracy = evaluate(X_valid_processed, y_valid_processed)\n",
    "        \n",
    "        epoch_end_time = time.time()\n",
    "        epoch_time_diff = epoch_end_time - epoch_start_time\n",
    "        \n",
    "        print(\"EPOCH {} ...\".format(i+1))\n",
    "        print(\"Validation Accuracy = {:.3f}\".format(validation_accuracy))\n",
    "        print(\"Run Time: \", epoch_time_diff, \" Seconds\")\n",
    "        print()\n",
    "        \n",
    "    saver.save(sess, './Saved_Models/model_2')\n",
    "    print(\"Model saved\")\n",
    "\n",
    "end_time = time.time()\n",
    "time_diff = end_time - start_time\n",
    "print(\"Total training Time: \", time_diff, \" Seconds\")"
   ]
  },
  {
   "cell_type": "markdown",
   "metadata": {},
   "source": [
    "### Evaluate (Test) the Model\n",
    "**Only Test the model once you are completely satisfied to truely evalute the effectiveness.** <br> Ideally, after running the test, you don't need to make any changes i.e. **you only run this once!**\n",
    "\n",
    "If you were to measure the performance of your trained model on the test set, then improve your model, and then measure the performance of your model on the test set again, that would invalidate your test results. You wouldn't get a true measure of how well your model would perform against real data."
   ]
  },
  {
   "cell_type": "code",
   "execution_count": null,
   "metadata": {},
   "outputs": [],
   "source": [
    "print(\"Are you sure you are ready to proceed?\")"
   ]
  },
  {
   "cell_type": "code",
   "execution_count": null,
   "metadata": {},
   "outputs": [],
   "source": [
    "print(\"You can only run the test once...\")"
   ]
  },
  {
   "cell_type": "code",
   "execution_count": null,
   "metadata": {},
   "outputs": [],
   "source": [
    "print(\"Last chance...\")"
   ]
  },
  {
   "cell_type": "code",
   "execution_count": null,
   "metadata": {},
   "outputs": [],
   "source": [
    "print(\"Proceed to testing...\")"
   ]
  },
  {
   "cell_type": "code",
   "execution_count": null,
   "metadata": {},
   "outputs": [],
   "source": [
    "with tf.Session() as sess:\n",
    "    saver.restore(sess, tf.train.latest_checkpoint('.'))              ##### WHEN READY, CHANGE THIS TO LOCATION OF SAVED MODEL\n",
    "\n",
    "    test_accuracy = evaluate(X_test_processed, y_test_processed)\n",
    "    print(\"Test Accuracy = {:.3f}\".format(test_accuracy))"
   ]
  },
  {
   "cell_type": "markdown",
   "metadata": {},
   "source": [
    "---\n",
    "\n",
    "## Step 3: Test a Model on New Images\n",
    "\n",
    "To give yourself more insight into how your model is working, download at least five pictures of German traffic signs from the web and use your model to predict the traffic sign type.\n",
    "\n",
    "You may find `signnames.csv` useful as it contains mappings from the class id (integer) to the actual sign name."
   ]
  },
  {
   "cell_type": "markdown",
   "metadata": {},
   "source": [
    "### Load and Output the Images"
   ]
  },
  {
   "cell_type": "code",
   "execution_count": null,
   "metadata": {},
   "outputs": [],
   "source": [
    "### Load the images and plot them here.\n",
    "### Feel free to use as many code cells as needed."
   ]
  },
  {
   "cell_type": "markdown",
   "metadata": {},
   "source": [
    "### Predict the Sign Type for Each Image"
   ]
  },
  {
   "cell_type": "code",
   "execution_count": null,
   "metadata": {},
   "outputs": [],
   "source": [
    "### Run the predictions here and use the model to output the prediction for each image.\n",
    "### Make sure to pre-process the images with the same pre-processing pipeline used earlier.\n",
    "### Feel free to use as many code cells as needed."
   ]
  },
  {
   "cell_type": "markdown",
   "metadata": {},
   "source": [
    "### Analyze Performance"
   ]
  },
  {
   "cell_type": "code",
   "execution_count": null,
   "metadata": {},
   "outputs": [],
   "source": [
    "### Calculate the accuracy for these 5 new images. \n",
    "### For example, if the model predicted 1 out of 5 signs correctly, it's 20% accurate on these new images."
   ]
  },
  {
   "cell_type": "markdown",
   "metadata": {},
   "source": [
    "### Output Top 5 Softmax Probabilities For Each Image Found on the Web"
   ]
  },
  {
   "cell_type": "markdown",
   "metadata": {},
   "source": [
    "For each of the new images, print out the model's softmax probabilities to show the **certainty** of the model's predictions (limit the output to the top 5 probabilities for each image). [`tf.nn.top_k`](https://www.tensorflow.org/versions/r0.12/api_docs/python/nn.html#top_k) could prove helpful here. \n",
    "\n",
    "The example below demonstrates how tf.nn.top_k can be used to find the top k predictions for each image.\n",
    "\n",
    "`tf.nn.top_k` will return the values and indices (class ids) of the top k predictions. So if k=3, for each sign, it'll return the 3 largest probabilities (out of a possible 43) and the correspoding class ids.\n",
    "\n",
    "Take this numpy array as an example. The values in the array represent predictions. The array contains softmax probabilities for five candidate images with six possible classes. `tf.nn.top_k` is used to choose the three classes with the highest probability:\n",
    "\n",
    "```\n",
    "# (5, 6) array\n",
    "a = np.array([[ 0.24879643,  0.07032244,  0.12641572,  0.34763842,  0.07893497,\n",
    "         0.12789202],\n",
    "       [ 0.28086119,  0.27569815,  0.08594638,  0.0178669 ,  0.18063401,\n",
    "         0.15899337],\n",
    "       [ 0.26076848,  0.23664738,  0.08020603,  0.07001922,  0.1134371 ,\n",
    "         0.23892179],\n",
    "       [ 0.11943333,  0.29198961,  0.02605103,  0.26234032,  0.1351348 ,\n",
    "         0.16505091],\n",
    "       [ 0.09561176,  0.34396535,  0.0643941 ,  0.16240774,  0.24206137,\n",
    "         0.09155967]])\n",
    "```\n",
    "\n",
    "Running it through `sess.run(tf.nn.top_k(tf.constant(a), k=3))` produces:\n",
    "\n",
    "```\n",
    "TopKV2(values=array([[ 0.34763842,  0.24879643,  0.12789202],\n",
    "       [ 0.28086119,  0.27569815,  0.18063401],\n",
    "       [ 0.26076848,  0.23892179,  0.23664738],\n",
    "       [ 0.29198961,  0.26234032,  0.16505091],\n",
    "       [ 0.34396535,  0.24206137,  0.16240774]]), indices=array([[3, 0, 5],\n",
    "       [0, 1, 4],\n",
    "       [0, 5, 1],\n",
    "       [1, 3, 5],\n",
    "       [1, 4, 3]], dtype=int32))\n",
    "```\n",
    "\n",
    "Looking just at the first row we get `[ 0.34763842,  0.24879643,  0.12789202]`, you can confirm these are the 3 largest probabilities in `a`. You'll also notice `[3, 0, 5]` are the corresponding indices."
   ]
  },
  {
   "cell_type": "code",
   "execution_count": null,
   "metadata": {},
   "outputs": [],
   "source": [
    "### Print out the top five softmax probabilities for the predictions on the German traffic sign images found on the web. \n",
    "### Feel free to use as many code cells as needed."
   ]
  },
  {
   "cell_type": "markdown",
   "metadata": {},
   "source": [
    "### Project Writeup\n",
    "\n",
    "Once you have completed the code implementation, document your results in a project writeup using this [template](https://github.com/udacity/CarND-Traffic-Sign-Classifier-Project/blob/master/writeup_template.md) as a guide. The writeup can be in a markdown or pdf file. "
   ]
  },
  {
   "cell_type": "markdown",
   "metadata": {},
   "source": [
    "> **Note**: Once you have completed all of the code implementations and successfully answered each question above, you may finalize your work by exporting the iPython Notebook as an HTML document. You can do this by using the menu above and navigating to  \\n\",\n",
    "    \"**File -> Download as -> HTML (.html)**. Include the finished document along with this notebook as your submission."
   ]
  },
  {
   "cell_type": "markdown",
   "metadata": {},
   "source": [
    "---\n",
    "\n",
    "## Step 4 (Optional): Visualize the Neural Network's State with Test Images\n",
    "\n",
    " This Section is not required to complete but acts as an additional excersise for understaning the output of a neural network's weights. While neural networks can be a great learning device they are often referred to as a black box. We can understand what the weights of a neural network look like better by plotting their feature maps. After successfully training your neural network you can see what it's feature maps look like by plotting the output of the network's weight layers in response to a test stimuli image. From these plotted feature maps, it's possible to see what characteristics of an image the network finds interesting. For a sign, maybe the inner network feature maps react with high activation to the sign's boundary outline or to the contrast in the sign's painted symbol.\n",
    "\n",
    " Provided for you below is the function code that allows you to get the visualization output of any tensorflow weight layer you want. The inputs to the function should be a stimuli image, one used during training or a new one you provided, and then the tensorflow variable name that represents the layer's state during the training process, for instance if you wanted to see what the [LeNet lab's](https://classroom.udacity.com/nanodegrees/nd013/parts/fbf77062-5703-404e-b60c-95b78b2f3f9e/modules/6df7ae49-c61c-4bb2-a23e-6527e69209ec/lessons/601ae704-1035-4287-8b11-e2c2716217ad/concepts/d4aca031-508f-4e0b-b493-e7b706120f81) feature maps looked like for it's second convolutional layer you could enter conv2 as the tf_activation variable.\n",
    "\n",
    "For an example of what feature map outputs look like, check out NVIDIA's results in their paper [End-to-End Deep Learning for Self-Driving Cars](https://devblogs.nvidia.com/parallelforall/deep-learning-self-driving-cars/) in the section Visualization of internal CNN State. NVIDIA was able to show that their network's inner weights had high activations to road boundary lines by comparing feature maps from an image with a clear path to one without. Try experimenting with a similar test to show that your trained network's weights are looking for interesting features, whether it's looking at differences in feature maps from images with or without a sign, or even what feature maps look like in a trained network vs a completely untrained one on the same sign image.\n",
    "\n",
    "<figure>\n",
    " <img src=\"visualize_cnn.png\" width=\"380\" alt=\"Combined Image\" />\n",
    " <figcaption>\n",
    " <p></p> \n",
    " <p style=\"text-align: center;\"> Your output should look something like this (above)</p> \n",
    " </figcaption>\n",
    "</figure>\n",
    " <p></p> \n"
   ]
  },
  {
   "cell_type": "code",
   "execution_count": null,
   "metadata": {},
   "outputs": [],
   "source": [
    "### Visualize your network's feature maps here.\n",
    "### Feel free to use as many code cells as needed.\n",
    "\n",
    "# image_input: the test image being fed into the network to produce the feature maps\n",
    "# tf_activation: should be a tf variable name used during your training procedure that represents the calculated state of a specific weight layer\n",
    "# activation_min/max: can be used to view the activation contrast in more detail, by default matplot sets min and max to the actual min and max values of the output\n",
    "# plt_num: used to plot out multiple different weight feature map sets on the same block, just extend the plt number for each new feature map entry\n",
    "\n",
    "def outputFeatureMap(image_input, tf_activation, activation_min=-1, activation_max=-1 ,plt_num=1):\n",
    "    # Here make sure to preprocess your image_input in a way your network expects\n",
    "    # with size, normalization, ect if needed\n",
    "    # image_input =\n",
    "    # Note: x should be the same name as your network's tensorflow data placeholder variable\n",
    "    # If you get an error tf_activation is not defined it may be having trouble accessing the variable from inside a function\n",
    "    activation = tf_activation.eval(session=sess,feed_dict={x : image_input})\n",
    "    featuremaps = activation.shape[3]\n",
    "    plt.figure(plt_num, figsize=(15,15))\n",
    "    for featuremap in range(featuremaps):\n",
    "        plt.subplot(6,8, featuremap+1) # sets the number of feature maps to show on each row and column\n",
    "        plt.title('FeatureMap ' + str(featuremap)) # displays the feature map number\n",
    "        if activation_min != -1 & activation_max != -1:\n",
    "            plt.imshow(activation[0,:,:, featuremap], interpolation=\"nearest\", vmin =activation_min, vmax=activation_max, cmap=\"gray\")\n",
    "        elif activation_max != -1:\n",
    "            plt.imshow(activation[0,:,:, featuremap], interpolation=\"nearest\", vmax=activation_max, cmap=\"gray\")\n",
    "        elif activation_min !=-1:\n",
    "            plt.imshow(activation[0,:,:, featuremap], interpolation=\"nearest\", vmin=activation_min, cmap=\"gray\")\n",
    "        else:\n",
    "            plt.imshow(activation[0,:,:, featuremap], interpolation=\"nearest\", cmap=\"gray\")"
   ]
  }
 ],
 "metadata": {
  "anaconda-cloud": {},
  "kernelspec": {
   "display_name": "Python 3",
   "language": "python",
   "name": "python3"
  },
  "language_info": {
   "codemirror_mode": {
    "name": "ipython",
    "version": 3
   },
   "file_extension": ".py",
   "mimetype": "text/x-python",
   "name": "python",
   "nbconvert_exporter": "python",
   "pygments_lexer": "ipython3",
   "version": "3.6.3"
  }
 },
 "nbformat": 4,
 "nbformat_minor": 1
}
